{
 "cells": [
  {
   "cell_type": "code",
   "execution_count": 1,
   "metadata": {},
   "outputs": [
    {
     "name": "stdout",
     "output_type": "stream",
     "text": [
      "IPython console for SymPy 1.3 (Python 3.7.4-64-bit) (ground types: python)\n",
      "\n",
      "These commands were executed:\n",
      ">>> from __future__ import division\n",
      ">>> from sympy import *\n",
      ">>> x, y, z, t = symbols('x y z t')\n",
      ">>> k, m, n = symbols('k m n', integer=True)\n",
      ">>> f, g, h = symbols('f g h', cls=Function)\n",
      ">>> init_printing()\n",
      "\n",
      "Documentation can be found at http://docs.sympy.org/1.3/\n",
      "\n"
     ]
    }
   ],
   "source": [
    "from sympy import init_session\n",
    "init_session()"
   ]
  },
  {
   "cell_type": "code",
   "execution_count": 2,
   "metadata": {},
   "outputs": [],
   "source": [
    "rp, up, ep = symbols(r\"\\rho^\\prime u^\\prime e^\\prime\")\n",
    "r, u, e = symbols(r\"\\rho u e\")\n",
    "H, g = symbols(r\"H \\gamma\")"
   ]
  },
  {
   "cell_type": "code",
   "execution_count": 3,
   "metadata": {},
   "outputs": [],
   "source": [
    "f1 = r*up + u*rp\n",
    "f2 = r*u*up + (g - 1)*(r*ep + e*rp)\n",
    "f3 = r*u*ep + r*e*(g - 1)*up - r*H"
   ]
  },
  {
   "cell_type": "code",
   "execution_count": 4,
   "metadata": {},
   "outputs": [
    {
     "data": {
      "image/png": "[encoded data removed]",
      "text/latex": [
       "$$\\rho u^\\prime + \\rho^\\prime u$$"
      ],
      "text/plain": [
       "\\rho⋅u__\\′ + \\rho__\\′⋅u"
      ]
     },
     "execution_count": 4,
     "metadata": {},
     "output_type": "execute_result"
    }
   ],
   "source": [
    "f1"
   ]
  },
  {
   "cell_type": "code",
   "execution_count": 5,
   "metadata": {},
   "outputs": [
    {
     "data": {
      "image/png": "[encoded data removed]",
      "text/latex": [
       "$$\\rho u u^\\prime + \\left(\\gamma - 1\\right) \\left(\\rho e^\\prime + \\rho^\\prime e\\right)$$"
      ],
      "text/plain": [
       "\\rho⋅u⋅u__\\′ + (\\gamma - 1)⋅(\\rho⋅e__\\′ + \\rho__\\′⋅e)"
      ]
     },
     "execution_count": 5,
     "metadata": {},
     "output_type": "execute_result"
    }
   ],
   "source": [
    "f2"
   ]
  },
  {
   "cell_type": "code",
   "execution_count": 6,
   "metadata": {},
   "outputs": [
    {
     "data": {
      "image/png": "[encoded data removed]",
      "text/latex": [
       "$$- H \\rho + \\rho e u^\\prime \\left(\\gamma - 1\\right) + \\rho e^\\prime u$$"
      ],
      "text/plain": [
       "-H⋅\\rho + \\rho⋅e⋅u__\\′⋅(\\gamma - 1) + \\rho⋅e__\\′⋅u"
      ]
     },
     "execution_count": 6,
     "metadata": {},
     "output_type": "execute_result"
    }
   ],
   "source": [
    "f3"
   ]
  },
  {
   "cell_type": "code",
   "execution_count": 7,
   "metadata": {},
   "outputs": [
    {
     "data": {
      "image/png": "[encoded data removed]",
      "text/latex": [
       "$$\\left \\{ \\rho^\\prime : \\frac{H \\rho \\left(\\gamma - 1\\right)}{u \\left(- \\gamma^{2} e + \\gamma e + u^{2}\\right)}, \\quad e^\\prime : \\frac{H \\left(- \\gamma e + e + u^{2}\\right)}{u \\left(- \\gamma^{2} e + \\gamma e + u^{2}\\right)}, \\quad u^\\prime : - \\frac{H \\left(\\gamma - 1\\right)}{- \\gamma^{2} e + \\gamma e + u^{2}}\\right \\}$$"
      ],
      "text/plain": [
       "⎧                                                         ⎛                 2⎞\n",
       "⎪                H⋅\\rho⋅(\\gamma - 1)                    H⋅⎝-\\gamma⋅e + e + u ⎠\n",
       "⎨\\rho__\\′: ───────────────────────────────, e__\\′: ───────────────────────────\n",
       "⎪            ⎛        2                 2⎞           ⎛        2               \n",
       "⎩          u⋅⎝- \\gamma ⋅e + \\gamma⋅e + u ⎠         u⋅⎝- \\gamma ⋅e + \\gamma⋅e +\n",
       "\n",
       "                                        ⎫\n",
       "                   -H⋅(\\gamma - 1)      ⎪\n",
       "────, u__\\′: ───────────────────────────⎬\n",
       "  2⎞                 2                 2⎪\n",
       " u ⎠         - \\gamma ⋅e + \\gamma⋅e + u ⎭"
      ]
     },
     "execution_count": 7,
     "metadata": {},
     "output_type": "execute_result"
    }
   ],
   "source": [
    "solve([f1, f2, f3], [rp, up, ep])"
   ]
  },
  {
   "cell_type": "code",
   "execution_count": null,
   "metadata": {},
   "outputs": [],
   "source": []
  }
 ],
 "metadata": {
  "kernelspec": {
   "display_name": "Python 3",
   "language": "python",
   "name": "python3"
  },
  "language_info": {
   "codemirror_mode": {
    "name": "ipython",
    "version": 3
   },
   "file_extension": ".py",
   "mimetype": "text/x-python",
   "name": "python",
   "nbconvert_exporter": "python",
   "pygments_lexer": "ipython3",
   "version": "3.7.4"
  }
 },
 "nbformat": 4,
 "nbformat_minor": 4
}
